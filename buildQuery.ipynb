{
 "cells": [
  {
   "cell_type": "code",
   "execution_count": 29,
   "metadata": {},
   "outputs": [],
   "source": [
    "import os\n",
    "os.chdir(r\"D:\\108-1\\database\\project\\database_design\")"
   ]
  },
  {
   "cell_type": "code",
   "execution_count": 30,
   "metadata": {},
   "outputs": [],
   "source": [
    "import pandas as pd\n",
    "from pandas import ExcelWriter\n",
    "from pandas import ExcelFile"
   ]
  },
  {
   "cell_type": "code",
   "execution_count": 31,
   "metadata": {},
   "outputs": [],
   "source": [
    "import codecs\n",
    "file = codecs.open(\"..\\sql_command\\insertCommand.sql\", 'w', \"utf-8\")"
   ]
  },
  {
   "cell_type": "code",
   "execution_count": 32,
   "metadata": {},
   "outputs": [],
   "source": [
    "def commentWriter(file, comment):\n",
    "    file.write('\\n')\n",
    "    for i in comment.split('\\n'):\n",
    "        file.write(\"-- \" + i + '\\n')\n",
    "    file.write('\\n')"
   ]
  },
  {
   "cell_type": "code",
   "execution_count": 33,
   "metadata": {},
   "outputs": [],
   "source": [
    "file.write(\"USE delivery_db;\\n\")"
   ]
  },
  {
   "cell_type": "code",
   "execution_count": 34,
   "metadata": {},
   "outputs": [],
   "source": [
    "# deal with User table-------------------------------------------------------\n",
    "############### write commment starts ###############\n",
    "commentWriter(file, \"deal with User table\")\n",
    "################ write commment ends ################\n",
    "User = pd.read_excel('database_table.xlsx', sheet_name='User')\n",
    "userQuery  = \"INSERT INTO User (UName, account, password, address, phone) values\\n\"\n",
    "userTalbeSize = len(User.index)\n",
    "count = 0\n",
    "for row in User.itertuples():\n",
    "    userQuery += '(\"{}\", \"{}\", \"{}\", \"{}\", \"{}\")'.format(getattr(row, \"UName\"),\n",
    "                                                        getattr(row, \"account\"), \n",
    "                                                        getattr(row, \"password\"),\n",
    "                                                        getattr(row, \"address\"),\n",
    "                                                        '0' + str(getattr(row, \"phone\")))\n",
    "    if(count < userTalbeSize - 1):\n",
    "        userQuery += ',\\n'\n",
    "    else:\n",
    "        userQuery += ';'\n",
    "    count += 1\n",
    "file.write(userQuery + '\\n')"
   ]
  },
  {
   "cell_type": "code",
   "execution_count": 35,
   "metadata": {},
   "outputs": [],
   "source": [
    "import numpy as np\n",
    "def transferURL(oriURL):\n",
    "    if(pd.isna(oriURL)):\n",
    "        return \"NULL\"\n",
    "    return r\"\\\\\".join(oriURL.split('\\\\'))"
   ]
  },
  {
   "cell_type": "code",
   "execution_count": 36,
   "metadata": {},
   "outputs": [],
   "source": [
    "def formatGet(row, columnName):\n",
    "    data = getattr(row, columnName)\n",
    "    if(pd.isna(data)):\n",
    "        return \"NULL\"\n",
    "    else:\n",
    "        if(isinstance(data, str) or \n",
    "           isinstance(data, pd._libs.tslibs.timestamps.Timestamp)):\n",
    "            return '\"{}\"'.format(data)\n",
    "        else:\n",
    "            return data"
   ]
  },
  {
   "cell_type": "code",
   "execution_count": 37,
   "metadata": {},
   "outputs": [],
   "source": [
    "# deal with Platform table-------------------------------------------------------\n",
    "############### write commment starts ###############\n",
    "commentWriter(file, \"deal with Platform table\")\n",
    "################ write commment ends ################\n",
    "\n",
    "platform = pd.read_excel('database_table.xlsx', sheet_name='Platform')\n",
    "platformQuery  = \"INSERT INTO Platform (PName, shippingFee, P_IMG_URL) values\\n\"\n",
    "platformTalbeSize = len(platform.index)\n",
    "count = 0\n",
    "for row in platform.itertuples():\n",
    "    platformQuery += '(\"{}\", {}, \"{}\")'.format(getattr(row, \"PName\"),\n",
    "                                                getattr(row, \"shippingFee\"), \n",
    "                                                transferURL(getattr(row, \"P_IMG_URL\")))\n",
    "    if(count < platformTalbeSize - 1):\n",
    "        platformQuery += ',\\n'\n",
    "    else:\n",
    "        platformQuery += ';'\n",
    "    count += 1\n",
    "file.write(platformQuery + '\\n')\n",
    "# print(platformQuery)"
   ]
  },
  {
   "cell_type": "code",
   "execution_count": 38,
   "metadata": {
    "scrolled": true
   },
   "outputs": [],
   "source": [
    "# deal with Platform_activity table-------------------------------------------------------\n",
    "############### write commment starts ###############\n",
    "commentWriter(file, \"deal with Platform_activity table\")\n",
    "################ write commment ends ################\n",
    "\n",
    "PA = pd.read_excel('database_table.xlsx', sheet_name='Platform_activity')\n",
    "PA_TalbeSize = len(PA.index)\n",
    "PA_Query = str()\n",
    "for row in PA.itertuples():\n",
    "    insertCommand  = \"INSERT INTO Platform_activity\" + \\\n",
    "                     \"(PID, PA_Name, discount_shippingFee, foodDiscountMode, FDM_arg1, FDM_arg2, \" + \\\n",
    "                     \"description, P_ACT_IMG_URL, start_time, end_time)\\n\"\n",
    "    \n",
    "    sqlCommand = '(SELECT PID, {}, {}, {}, {}, {}, {}, {}, {}, {}\\n' + \\\n",
    "                 'FROM Platform\\n' + \\\n",
    "                 'WHERE PName = {})'\n",
    "    \n",
    "    PA_Query += insertCommand + sqlCommand.format(\n",
    "        formatGet(row, \"PA_Name\"), formatGet(row, \"discount_shippingFee\"), \n",
    "        formatGet(row, \"foodDiscountMode\"), formatGet(row, \"FDM_arg1\"), \n",
    "        formatGet(row, \"FDM_arg2\"), formatGet(row, \"description\"), \n",
    "        transferURL(formatGet(row, \"P_ACT_IMG_URL\")),\n",
    "        formatGet(row, \"start_time\"), formatGet(row, \"end_time\"), \n",
    "        formatGet(row, \"PName\"))\n",
    "    PA_Query += ';\\n'\n",
    "\n",
    "file.write(PA_Query + '\\n')\n",
    "# print(PA_Query)"
   ]
  },
  {
   "cell_type": "code",
   "execution_count": 39,
   "metadata": {},
   "outputs": [],
   "source": [
    "# deal with Restaurant table-------------------------------------------------------\n",
    "############### write commment starts ###############\n",
    "commentWriter(file, \"deal with Restaurant table\")\n",
    "################ write commment ends ################\n",
    "\n",
    "Restaurant = pd.read_excel('database_table.xlsx', sheet_name='Restaurant')\n",
    "RestaurantQuery  = \"INSERT INTO Restaurant (RName, address, R_IMG_URL) values\\n\"\n",
    "RestaurantTalbeSize = len(Restaurant.index)\n",
    "count = 0\n",
    "for row in Restaurant.itertuples():\n",
    "    RestaurantQuery += '({}, {}, {})'.format(formatGet(row, \"RName\"),\n",
    "                                                formatGet(row, \"address\"), \n",
    "                                                transferURL(formatGet(row, \"R_IMG_URL\")))\n",
    "    if(count < RestaurantTalbeSize - 1):\n",
    "        RestaurantQuery += ',\\n'\n",
    "    else:\n",
    "        RestaurantQuery += ';'\n",
    "    count += 1\n",
    "file.write(RestaurantQuery + '\\n')\n",
    "# print(RestaurantQuery)"
   ]
  },
  {
   "cell_type": "code",
   "execution_count": 40,
   "metadata": {},
   "outputs": [],
   "source": [
    "# deal with supportedPlatform table-------------------------------------------------------\n",
    "############### write commment starts ###############\n",
    "commentWriter(file, \"deal with supportedPlatform table\")\n",
    "################ write commment ends ################\n",
    "\n",
    "SP = pd.read_excel('database_table.xlsx', sheet_name='supportedPlatform')\n",
    "SP_TalbeSize = len(SP.index)\n",
    "SP_Query = str()\n",
    "for row in SP.itertuples():\n",
    "    insertCommand  = \"INSERT INTO supportedPlatform (RID, PID)\\n\"\n",
    "    sqlCommand = '(SELECT RID, PID\\n' + \\\n",
    "                 'FROM Restaurant, Platform\\n' + \\\n",
    "                 'WHERE Restaurant.RName = {} and Platform.PName = {})'\n",
    "    \n",
    "    SP_Query += insertCommand + \\\n",
    "                sqlCommand.format(\n",
    "                    formatGet(row, \"RName\"), \n",
    "                    formatGet(row, \"PName\"))\n",
    "    SP_Query += ';\\n'\n",
    "\n",
    "file.write(SP_Query + '\\n')\n",
    "# print(SP_Query)"
   ]
  },
  {
   "cell_type": "code",
   "execution_count": 41,
   "metadata": {},
   "outputs": [],
   "source": [
    "# deal with RestaurantCategory table-------------------------------------------------------\n",
    "############### write commment starts ###############\n",
    "commentWriter(file, \"deal with RestaurantCategory table\")\n",
    "################ write commment ends ################\n",
    "\n",
    "RC = pd.read_excel('database_table.xlsx', sheet_name='RestaurantCategory')\n",
    "RC_TalbeSize = len(RC.index)\n",
    "RC_Query = str()\n",
    "for row in RC.itertuples():\n",
    "    insertCommand  = \"INSERT INTO RestaurantCategory (RID, CName)\\n\"\n",
    "    sqlCommand = '(SELECT RID, {}\\n' + \\\n",
    "                 'FROM Restaurant\\n' + \\\n",
    "                 'WHERE Restaurant.RName = {})'\n",
    "    RC_Query += insertCommand + \\\n",
    "                sqlCommand.format(\n",
    "                    formatGet(row, \"CName\"), \n",
    "                    formatGet(row, \"RName\"))\n",
    "    RC_Query += ';\\n'\n",
    "\n",
    "file.write(RC_Query + '\\n')\n",
    "# print(RC_Query)"
   ]
  },
  {
   "cell_type": "code",
   "execution_count": 42,
   "metadata": {},
   "outputs": [],
   "source": [
    "# deal with Food table-------------------------------------------------------\n",
    "############### write commment starts ###############\n",
    "commentWriter(file, \"deal with Food table\")\n",
    "################ write commment ends ################\n",
    "\n",
    "Food = pd.read_excel('database_table.xlsx', sheet_name='Food')\n",
    "Food_TalbeSize = len(Food.index)\n",
    "Food_Query = str()\n",
    "for row in Food.itertuples():\n",
    "    insertCommand  = \"INSERT INTO Food (RID, FName, price, F_IMG_URL)\\n\"\n",
    "    sqlCommand = '(SELECT RID, {}, {}, {}\\n' + \\\n",
    "                 'FROM Restaurant\\n' + \\\n",
    "                 'WHERE Restaurant.RName = {})'\n",
    "    Food_Query += insertCommand + \\\n",
    "                sqlCommand.format(\n",
    "                    formatGet(row, \"FName\"),\n",
    "                    formatGet(row, \"price\"),\n",
    "                    transferURL(formatGet(row, \"F_IMG_URL\")),\n",
    "                    formatGet(row, \"RName\"))\n",
    "    Food_Query += ';\\n'\n",
    "\n",
    "file.write(Food_Query + '\\n')\n",
    "# print(Food_Query)"
   ]
  },
  {
   "cell_type": "code",
   "execution_count": 43,
   "metadata": {},
   "outputs": [],
   "source": [
    "file.close()"
   ]
  }
 ],
 "metadata": {
  "kernelspec": {
   "display_name": "Python 3",
   "language": "python",
   "name": "python3"
  },
  "language_info": {
   "codemirror_mode": {
    "name": "ipython",
    "version": 3
   },
   "file_extension": ".py",
   "mimetype": "text/x-python",
   "name": "python",
   "nbconvert_exporter": "python",
   "pygments_lexer": "ipython3",
   "version": "3.7.3"
  }
 },
 "nbformat": 4,
 "nbformat_minor": 2
}
